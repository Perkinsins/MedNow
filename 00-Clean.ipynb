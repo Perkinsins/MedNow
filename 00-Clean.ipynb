{
 "cells": [
  {
   "cell_type": "markdown",
   "id": "757ab6de",
   "metadata": {},
   "source": [
    "# MedNow Clinics — Excel Ingest, Filter, Map, and Export (pandas)"
   ]
  },
  {
   "cell_type": "markdown",
   "id": "96d10ac1",
   "metadata": {},
   "source": [
    "This notebook reproduces the Polars pipeline using **pandas**.\n",
    "\n",
    "Steps:\n",
    "1. Read multi-sheet Excel (skip **Monthly Summary**).\n",
    "2. Normalize headers.\n",
    "3. Drop PHI name fields.\n",
    "4. Filter Humana insurance.\n",
    "5. Split **procedure** into **CPT_Code** and **Procedure_Description**, add **Code_Core**.\n",
    "6. Merge with `service_map` on CPT_Code, fallback to Code_Core, else Unknown.\n",
    "7. Write CSV and Parquet.\n"
   ]
  },
  {
   "cell_type": "markdown",
   "id": "4b37b0e2",
   "metadata": {},
   "source": [
    "## Imports"
   ]
  },
  {
   "cell_type": "code",
   "execution_count": 1,
   "id": "02465bcc",
   "metadata": {},
   "outputs": [],
   "source": [
    "import pandas as pd\n",
    "from pathlib import Path\n",
    "import openpyxl"
   ]
  },
  {
   "cell_type": "markdown",
   "id": "261ae1a5",
   "metadata": {},
   "source": [
    "## Config"
   ]
  },
  {
   "cell_type": "code",
   "execution_count": 2,
   "id": "e1f40443",
   "metadata": {},
   "outputs": [],
   "source": [
    "INPUT_XLSX = Path(r\"C:\\Users\\pirat\\Dropbox\\Consulting Inc\\MedNow\\MNC Athena Activity - Monthly 2024 & YTD June 2024 - As of 10.2.25 - Copy.xlsx\")\n",
    "SERVICE_MAP_XLSX = Path(r\"C:\\Users\\pirat\\Dropbox\\Consulting Inc\\Josh Perkins Data\\CPT_Code_Service_Map.xlsx\")\n",
    "SERVICE_MAP_SHEET = \"Sheet1\"\n",
    "OUT_CSV = Path(r\"C:\\Users\\pirat\\Dropbox\\Consulting Inc\\MedNow\\Humana Analysis\\mednow_athena_2024_2025_ytd_06_humana.csv\")  \n",
    "# OUT_PARQUET = Path(r\"C:\\path\\to\\mednow_humana.parquet\")\n",
    "SKIP_SHEETS = {\"Monthly Summary\"}\n",
    "NAME_COLS = [\"last_name\",\"first_name\",\"middle_initial\",\"name_suffix\"]\n",
    "RENAME_MAP: dict[str, str] = {\n",
    "    \"service dept\": \"Service_Dept\",\n",
    "    \"rendering provider\": \"Rendering_Provider\",\n",
    "    \"procedure\": \"Procedure\",\n",
    "    \"insurancepackage\": \"Insurance_Package\",\n",
    "    \"last name\": \"last_name\", # Drop\n",
    "    \"first name\": \"first_name\", # Drop\n",
    "    \"middle initial\": \"middle_initial\", # Drop\n",
    "    \"name suffix\": \"name_suffix\", # Drop\n",
    "    \"patient id\": \"Patient_ID\",\n",
    "    \"patient date of birth\": \"Patient_DOB\", # Drop\n",
    "    \"service date\": \"Service_Date\",\n",
    "    \"#chg\": \"Num_Chg\",          # counts\n",
    "    \"chg\": \"Chg\",               # raw charge\n",
    "    \"netpmt\": \"Net_Pmt\",         # net payment\n",
    "    \"contract\": \"Contract\",\n",
    "    \"free\": \"Free\",\n",
    "    \"baddebt\": \"Bad_Debt\",\n",
    "    \"pre-collect\": \"Pre_Collect\",\n",
    "    \"collect\": \"Collect\",\n",
    "    \"recovery\": \"Recovery\",\n",
    "    \"fee\": \"Fee\",\n",
    "    \"cap\": \"Cap\",\n",
    "    \"globl\": \"Globl\",\n",
    "    \"w/hold\": \"W_Hold\",\n",
    "    \"interest\": \"Interest\",\n",
    "    \"adjoth\": \"Adj_Oth\",\n",
    "    \"incentive\": \"Incentive\",\n",
    "    \"vendor_adjustments\": \"Vendor_Adjustments\",\n",
    "    \"net xfer\": \"Net_Transfer\",\n",
    "    \"netreceivable\": \"Net_Receivable\",\n",
    "}"
   ]
  },
  {
   "cell_type": "markdown",
   "id": "e96938bd",
   "metadata": {},
   "source": [
    "## Helpers"
   ]
  },
  {
   "cell_type": "code",
   "execution_count": 3,
   "id": "f9ffd458",
   "metadata": {},
   "outputs": [],
   "source": [
    "def normalize_colname(name: str) -> str:\n",
    "    out = name.strip().lower()\n",
    "    for ch in [\"/\",\" \",\"-\",\"#\",\"(\",\")\",\"[\",\"]\"]:\n",
    "        out = out.replace(ch, \"_\")\n",
    "    while \"__\" in out:\n",
    "        out = out.replace(\"__\", \"_\")\n",
    "    return out.strip(\"_\")\n",
    "\n",
    "\n",
    "def apply_renames(df: pd.DataFrame) -> pd.DataFrame:\n",
    "    lower_map = {k.lower(): v for k, v in RENAME_MAP.items()}\n",
    "    mapping = {}\n",
    "    for c in df.columns:\n",
    "        std = normalize_colname(c)\n",
    "        std = lower_map.get(c.lower(), lower_map.get(std, std))\n",
    "        mapping[c] = std\n",
    "    return df.rename(columns=mapping)\n",
    "\n",
    "\n",
    "def list_sheet_names(xlsx_path: Path) -> list[str]:\n",
    "    wb = openpyxl.load_workbook(xlsx_path, read_only=True, data_only=True)\n",
    "    return [s for s in wb.sheetnames if s not in SKIP_SHEETS]\n",
    "\n",
    "\n",
    "def read_all_sheets_df(xlsx_path: Path) -> pd.DataFrame:\n",
    "    dfs = []\n",
    "    for s in list_sheet_names(xlsx_path):\n",
    "        df = pd.read_excel(xlsx_path, sheet_name=s)\n",
    "        if df.empty:\n",
    "            continue\n",
    "        df = apply_renames(df)\n",
    "        df[\"source_sheet\"] = s\n",
    "        df[\"source_file\"] = xlsx_path.name\n",
    "        dfs.append(df)\n",
    "    if not dfs:\n",
    "        return pd.DataFrame()\n",
    "    return pd.concat(dfs, ignore_index=True)"
   ]
  },
  {
   "cell_type": "markdown",
   "id": "6d62175c",
   "metadata": {},
   "source": [
    "## Ingest MedNow Excel"
   ]
  },
  {
   "cell_type": "code",
   "execution_count": 4,
   "id": "ca6d5eea",
   "metadata": {},
   "outputs": [],
   "source": [
    "df = read_all_sheets_df(INPUT_XLSX)"
   ]
  },
  {
   "cell_type": "markdown",
   "id": "2199265d",
   "metadata": {},
   "source": [
    "## Drop PHI and filter to Humana"
   ]
  },
  {
   "cell_type": "code",
   "execution_count": 5,
   "id": "ad859b15",
   "metadata": {},
   "outputs": [],
   "source": [
    "df_filtered = df.copy()\n",
    "df_filtered = df_filtered.drop(columns=[c for c in NAME_COLS if c in df.columns])\n",
    "df_filtered = df_filtered[df_filtered[\"Insurance_Package\"].str.contains(\"humana\", case=False, na=False)].copy()"
   ]
  },
  {
   "cell_type": "markdown",
   "id": "4df4682f",
   "metadata": {},
   "source": [
    "## Split Procedure into CPT_Code and Procedure_Description, derive Code_Core"
   ]
  },
  {
   "cell_type": "code",
   "execution_count": 6,
   "id": "ab4b3d29",
   "metadata": {},
   "outputs": [],
   "source": [
    "proc_split = df_filtered[\"Procedure\"].str.split(\": \", n=1, expand=True)\n",
    "df_filtered[\"CPT_Code\"] = proc_split[0].str.replace(\",\",\"-\", regex=False)\n",
    "df_filtered[\"Procedure_Description\"] = proc_split[1]\n",
    "df_filtered[\"Code_Core\"] = df_filtered[\"CPT_Code\"].str[:5]\n",
    "\n",
    "cols = list(df_filtered.columns)\n",
    "pidx = cols.index(\"Procedure\")\n",
    "new_order = cols[:pidx+1] + [\"CPT_Code\",\"Code_Core\",\"Procedure_Description\"] + [c for c in cols[pidx+1:] if c not in [\"CPT_Code\",\"Code_Core\",\"Procedure_Description\"]]\n",
    "df_filtered = df_filtered[new_order]"
   ]
  },
  {
   "cell_type": "markdown",
   "id": "36761574",
   "metadata": {},
   "source": [
    "## Load service_map"
   ]
  },
  {
   "cell_type": "code",
   "execution_count": 7,
   "id": "cf6e2796",
   "metadata": {},
   "outputs": [
    {
     "data": {
      "text/plain": [
       "(  Code Full Code Core Modifier  CPT/HCPCS Description         UHC Category  \\\n",
       " 0     0001U     0001U       00  CPT/HCPCS Description  CLINICAL LABORATORY   \n",
       " 1     0002M     0002M       00       RBC DNA HEA 35 A  CLINICAL LABORATORY   \n",
       " 2     0002U     0002U       00       LIVER DIS 10 ASS  CLINICAL LABORATORY   \n",
       " 3     0003M     0003M       00       ONC CLRCT QUAN 3  CLINICAL LABORATORY   \n",
       " 4     0003U     0003U       00       LIVER DIS 10 ASS  CLINICAL LABORATORY   \n",
       " \n",
       "   Cigna Category    Category Name Sub-Category Name  \n",
       " 0            NaN  Pathology & Lab    Lab - Clinical  \n",
       " 1            NaN  Pathology & Lab    Lab - Clinical  \n",
       " 2            NaN  Pathology & Lab    Lab - Clinical  \n",
       " 3            NaN  Pathology & Lab    Lab - Clinical  \n",
       " 4            NaN  Pathology & Lab    Lab - Clinical  ,\n",
       " Index(['Code Full', 'Code Core', 'Modifier', 'CPT/HCPCS Description',\n",
       "        'UHC Category', 'Cigna Category', 'Category Name', 'Sub-Category Name'],\n",
       "       dtype='object'))"
      ]
     },
     "execution_count": 7,
     "metadata": {},
     "output_type": "execute_result"
    }
   ],
   "source": [
    "service_map = pd.read_excel(SERVICE_MAP_XLSX, sheet_name=SERVICE_MAP_SHEET)\n",
    "service_map.head(), service_map.columns"
   ]
  },
  {
   "cell_type": "markdown",
   "id": "338bf3fe",
   "metadata": {},
   "source": [
    "## Join service_map by CPT_Code with fallback to Code_Core"
   ]
  },
  {
   "cell_type": "code",
   "execution_count": 8,
   "id": "4c961575",
   "metadata": {},
   "outputs": [],
   "source": [
    "# payload columns to bring over\n",
    "PAYLOAD = [c for c in service_map.columns if c not in {\"Code Full\",\"Code Core\"}]\n",
    "\n",
    "# 1) exact CPT map (unique by assumption)\n",
    "full_map = service_map.set_index(\"Code Full\")[PAYLOAD]\n",
    "\n",
    "# 2) core map using first occurrence only\n",
    "core_map = service_map.drop_duplicates(subset=[\"Code Core\"], keep=\"first\").set_index(\"Code Core\")[PAYLOAD]\n",
    "\n",
    "joined = df_filtered.copy()\n",
    "\n",
    "# join exact CPT first\n",
    "joined = joined.join(full_map, on=\"CPT_Code\")\n",
    "\n",
    "# join core as fallback (suffix to coalesce)\n",
    "joined = joined.join(core_map, on=\"Code_Core\", rsuffix=\"_core\")\n",
    "\n",
    "# coalesce exact->core->Unknown\n",
    "for c in PAYLOAD:\n",
    "    joined[c] = joined[c].combine_first(joined.get(f\"{c}_core\")).fillna(\"Unknown\")\n",
    "\n",
    "# clean up\n",
    "joined = joined.drop(columns=[f\"{c}_core\" for c in PAYLOAD if f\"{c}_core\" in joined])\n"
   ]
  },
  {
   "cell_type": "code",
   "execution_count": 9,
   "id": "d5bbb4f0",
   "metadata": {},
   "outputs": [
    {
     "data": {
      "application/vnd.microsoft.datawrangler.viewer.v0+json": {
       "columns": [
        {
         "name": "index",
         "rawType": "int64",
         "type": "integer"
        },
        {
         "name": "Patient_ID",
         "rawType": "int64",
         "type": "integer"
        },
        {
         "name": "Service_Date",
         "rawType": "datetime64[ns]",
         "type": "datetime"
        },
        {
         "name": "Total_Paid",
         "rawType": "float64",
         "type": "float"
        },
        {
         "name": "Visit_ID",
         "rawType": "object",
         "type": "string"
        }
       ],
       "ref": "39db1413-fbf7-4756-8662-72e54f9e6ca0",
       "rows": [
        [
         "148",
         "37495",
         "2024-01-10 00:00:00",
         "0.0",
         "37495-2024-01-10"
        ],
        [
         "244",
         "37495",
         "2024-01-10 00:00:00",
         "0.0",
         "37495-2024-01-10"
        ],
        [
         "245",
         "104759",
         "2024-01-03 00:00:00",
         "0.0",
         "104759-2024-01-03"
        ],
        [
         "246",
         "91424",
         "2024-01-05 00:00:00",
         "0.0",
         "91424-2024-01-05"
        ],
        [
         "396",
         "37495",
         "2024-01-10 00:00:00",
         "0.0",
         "37495-2024-01-10"
        ]
       ],
       "shape": {
        "columns": 4,
        "rows": 5
       }
      },
      "text/html": [
       "<div>\n",
       "<style scoped>\n",
       "    .dataframe tbody tr th:only-of-type {\n",
       "        vertical-align: middle;\n",
       "    }\n",
       "\n",
       "    .dataframe tbody tr th {\n",
       "        vertical-align: top;\n",
       "    }\n",
       "\n",
       "    .dataframe thead th {\n",
       "        text-align: right;\n",
       "    }\n",
       "</style>\n",
       "<table border=\"1\" class=\"dataframe\">\n",
       "  <thead>\n",
       "    <tr style=\"text-align: right;\">\n",
       "      <th></th>\n",
       "      <th>Patient_ID</th>\n",
       "      <th>Service_Date</th>\n",
       "      <th>Total_Paid</th>\n",
       "      <th>Visit_ID</th>\n",
       "    </tr>\n",
       "  </thead>\n",
       "  <tbody>\n",
       "    <tr>\n",
       "      <th>148</th>\n",
       "      <td>37495</td>\n",
       "      <td>2024-01-10</td>\n",
       "      <td>0.0</td>\n",
       "      <td>37495-2024-01-10</td>\n",
       "    </tr>\n",
       "    <tr>\n",
       "      <th>244</th>\n",
       "      <td>37495</td>\n",
       "      <td>2024-01-10</td>\n",
       "      <td>0.0</td>\n",
       "      <td>37495-2024-01-10</td>\n",
       "    </tr>\n",
       "    <tr>\n",
       "      <th>245</th>\n",
       "      <td>104759</td>\n",
       "      <td>2024-01-03</td>\n",
       "      <td>0.0</td>\n",
       "      <td>104759-2024-01-03</td>\n",
       "    </tr>\n",
       "    <tr>\n",
       "      <th>246</th>\n",
       "      <td>91424</td>\n",
       "      <td>2024-01-05</td>\n",
       "      <td>0.0</td>\n",
       "      <td>91424-2024-01-05</td>\n",
       "    </tr>\n",
       "    <tr>\n",
       "      <th>396</th>\n",
       "      <td>37495</td>\n",
       "      <td>2024-01-10</td>\n",
       "      <td>0.0</td>\n",
       "      <td>37495-2024-01-10</td>\n",
       "    </tr>\n",
       "  </tbody>\n",
       "</table>\n",
       "</div>"
      ],
      "text/plain": [
       "     Patient_ID Service_Date  Total_Paid           Visit_ID\n",
       "148       37495   2024-01-10         0.0   37495-2024-01-10\n",
       "244       37495   2024-01-10         0.0   37495-2024-01-10\n",
       "245      104759   2024-01-03         0.0  104759-2024-01-03\n",
       "246       91424   2024-01-05         0.0   91424-2024-01-05\n",
       "396       37495   2024-01-10         0.0   37495-2024-01-10"
      ]
     },
     "execution_count": 9,
     "metadata": {},
     "output_type": "execute_result"
    }
   ],
   "source": [
    "# Add Total_Paid and Visit_ID with renamed columns\n",
    "\n",
    "# columns to sum for Total_Paid\n",
    "cols_to_sum = [\n",
    "    \"Adj_Oth\", \"Bad_Debt\", \"Cap\", \"Collect\", \"Contract\", \"Fee\", \"Free\",\n",
    "    \"Globl\", \"Incentive\", \"Interest\", \"Net_Pmt\", \"Net_Transfer\",\n",
    "    \"Pre_Collect\", \"Recovery\", \"Vendor_Adjustments\", \"W_Hold\"\n",
    "]\n",
    "\n",
    "# ensure numeric types (convert errors to NaN, fill with 0)\n",
    "joined[cols_to_sum] = joined[cols_to_sum].apply(pd.to_numeric, errors=\"coerce\").fillna(0)\n",
    "\n",
    "# row-wise sum\n",
    "joined[\"Total_Paid\"] = joined[cols_to_sum].sum(axis=1)\n",
    "\n",
    "# Visit_ID = Patient_ID-Service_Date\n",
    "joined[\"Visit_ID\"] = (\n",
    "    joined[\"Patient_ID\"].astype(str) + \"-\" + joined[\"Service_Date\"].astype(str)\n",
    ")\n",
    "\n",
    "joined[[\"Patient_ID\",\"Service_Date\",\"Total_Paid\",\"Visit_ID\"]].head()\n"
   ]
  },
  {
   "cell_type": "markdown",
   "id": "d721a21e",
   "metadata": {},
   "source": [
    "## Write outputs"
   ]
  },
  {
   "cell_type": "code",
   "execution_count": 10,
   "id": "e68e51f4",
   "metadata": {},
   "outputs": [],
   "source": [
    "OUT_CSV.parent.mkdir(parents=True, exist_ok=True)\n",
    "joined.to_csv(OUT_CSV, index=False)\n",
    "# joined.to_parquet(OUT_PARQUET, index=False)\n",
    "# OUT_CSV, OUT_PARQUET"
   ]
  },
  {
   "cell_type": "code",
   "execution_count": 12,
   "id": "6fa0ee4d",
   "metadata": {},
   "outputs": [],
   "source": [
    "df.to_csv(r\"C:\\Users\\pirat\\Dropbox\\Consulting Inc\\MedNow\\mednow_athena_2024_2025_ytd_06_full.csv\", index=False)"
   ]
  },
  {
   "cell_type": "markdown",
   "id": "419099cd",
   "metadata": {},
   "source": [
    "## QA checks"
   ]
  }
 ],
 "metadata": {
  "kernelspec": {
   "display_name": "Python 3",
   "language": "python",
   "name": "python3"
  },
  "language_info": {
   "codemirror_mode": {
    "name": "ipython",
    "version": 3
   },
   "file_extension": ".py",
   "mimetype": "text/x-python",
   "name": "python",
   "nbconvert_exporter": "python",
   "pygments_lexer": "ipython3",
   "version": "3.11.5"
  }
 },
 "nbformat": 4,
 "nbformat_minor": 5
}
